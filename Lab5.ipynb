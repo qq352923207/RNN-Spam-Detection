{
  "nbformat": 4,
  "nbformat_minor": 0,
  "metadata": {
    "colab": {
      "name": "Lab5",
      "provenance": [],
      "collapsed_sections": []
    },
    "kernelspec": {
      "name": "python3",
      "display_name": "Python 3"
    },
    "accelerator": "GPU"
  },
  "cells": [
    {
      "cell_type": "code",
      "metadata": {
        "id": "xw2kWdg_V5AF",
        "outputId": "301665c4-0f15-49cf-e28e-dafefc618914",
        "colab": {
          "base_uri": "https://localhost:8080/",
          "height": 122
        }
      },
      "source": [
        "from google.colab import drive\n",
        "drive.mount('/content/gdrive/')"
      ],
      "execution_count": null,
      "outputs": [
        {
          "output_type": "stream",
          "text": [
            "Go to this URL in a browser: https://accounts.google.com/o/oauth2/auth?client_id=947318989803-6bn6qk8qdgf4n4g3pfee6491hc0brc4i.apps.googleusercontent.com&redirect_uri=urn%3Aietf%3Awg%3Aoauth%3A2.0%3Aoob&scope=email%20https%3A%2F%2Fwww.googleapis.com%2Fauth%2Fdocs.test%20https%3A%2F%2Fwww.googleapis.com%2Fauth%2Fdrive%20https%3A%2F%2Fwww.googleapis.com%2Fauth%2Fdrive.photos.readonly%20https%3A%2F%2Fwww.googleapis.com%2Fauth%2Fpeopleapi.readonly&response_type=code\n",
            "\n",
            "Enter your authorization code:\n",
            "··········\n",
            "Mounted at /content/gdrive/\n"
          ],
          "name": "stdout"
        }
      ]
    },
    {
      "cell_type": "code",
      "metadata": {
        "id": "lXRPCdJaauNI",
        "outputId": "f34515ab-2067-4fdc-af51-14b7ae98b94a",
        "colab": {
          "base_uri": "https://localhost:8080/",
          "height": 34
        }
      },
      "source": [
        "!ls /content/gdrive/'My Drive'/SMSSpamCollection"
      ],
      "execution_count": null,
      "outputs": [
        {
          "output_type": "stream",
          "text": [
            "'/content/gdrive/My Drive/SMSSpamCollection'\n"
          ],
          "name": "stdout"
        }
      ]
    },
    {
      "cell_type": "markdown",
      "metadata": {
        "id": "WGjSARuvfGoZ"
      },
      "source": [
        "Part 1A: "
      ]
    },
    {
      "cell_type": "code",
      "metadata": {
        "id": "IzOQaUL7fTwV",
        "outputId": "5d090136-e1ea-41f5-98c8-2630fa27343e",
        "colab": {
          "base_uri": "https://localhost:8080/",
          "height": 85
        }
      },
      "source": [
        "count = 0\n",
        "for line in open('/content/gdrive/My Drive/SMSSpamCollection'):   #Spam message\n",
        "  if line[0] == 's':\n",
        "    print(line)\n",
        "    break\n",
        "for line in open('/content/gdrive/My Drive/SMSSpamCollection'):   #Legitimate message\n",
        "  if line[0] == 'h':\n",
        "    print(line)\n",
        "    break"
      ],
      "execution_count": null,
      "outputs": [
        {
          "output_type": "stream",
          "text": [
            "spam\tFree entry in 2 a wkly comp to win FA Cup final tkts 21st May 2005. Text FA to 87121 to receive entry question(std txt rate)T&C's apply 08452810075over18's\n",
            "\n",
            "ham\tGo until jurong point, crazy.. Available only in bugis n great world la e buffet... Cine there got amore wat...\n",
            "\n"
          ],
          "name": "stdout"
        }
      ]
    },
    {
      "cell_type": "markdown",
      "metadata": {
        "id": "w0o3JXhMgD3V"
      },
      "source": [
        "Part 1B"
      ]
    },
    {
      "cell_type": "code",
      "metadata": {
        "id": "6TnbNLbygFMs",
        "outputId": "7aba1a26-9111-4345-fd27-7130233de326",
        "colab": {
          "base_uri": "https://localhost:8080/",
          "height": 51
        }
      },
      "source": [
        "for line in open('/content/gdrive/My Drive/SMSSpamCollection'):   #747 spam messages\n",
        "  if line[0] == 's':\n",
        "    count += 1\n",
        "print(count)\n",
        "\n",
        "for line in open('/content/gdrive/My Drive/SMSSpamCollection'):   #5574 spam messages\n",
        "  if line[0] == 'h':\n",
        "    count += 1\n",
        "print(count)"
      ],
      "execution_count": null,
      "outputs": [
        {
          "output_type": "stream",
          "text": [
            "747\n",
            "5574\n"
          ],
          "name": "stdout"
        }
      ]
    },
    {
      "cell_type": "markdown",
      "metadata": {
        "id": "DJx1yrtDgWiB"
      },
      "source": [
        "Part 1C\n",
        "\n",
        "Advantage: \n",
        "\n",
        "1. By using character level RNN, the model is able to learn specific words like names, places.\n",
        "\n",
        "2. character level RNN does less encoding, less memory required, since there are 26 letters in English and some puntuation marks, where as word- level need to encode thousands of words.\n",
        "\n",
        "Disadvantage:\n",
        "\n",
        "1. Computationally expensive because char-based RNN will have more tokens than a word-based RNN model, given the same sentence\n",
        "\n",
        "2. The character level RNN learns the word rather than learning the context."
      ]
    },
    {
      "cell_type": "markdown",
      "metadata": {
        "id": "kGs4Md-RgvCy"
      },
      "source": [
        "Part 1D"
      ]
    },
    {
      "cell_type": "code",
      "metadata": {
        "id": "8fth-gqHLRS6",
        "outputId": "08d12cf5-85a5-4820-eeda-e0086ac90797",
        "colab": {
          "base_uri": "https://localhost:8080/",
          "height": 68
        }
      },
      "source": [
        "import torchtext\n",
        "text_field = torchtext.data.Field(sequential=True,      # text sequence\n",
        "                                  tokenize=lambda x: x, # because are building a character-RNN\n",
        "                                  include_lengths=True, # to track the length of sequences, for batching\n",
        "                                  batch_first=True,\n",
        "                                  use_vocab=True)       # to turn each character into an integer index\n",
        "label_field = torchtext.data.Field(sequential=False,    # not a sequence\n",
        "                                   use_vocab=False,     # don't need to track vocabulary\n",
        "                                   is_target=True,      \n",
        "                                   batch_first=True,\n",
        "                                   preprocessing=lambda x: int(x == 'spam')) # convert text to 0 and 1\n",
        "\n",
        "fields = [('label', label_field), ('sms', text_field)]\n",
        "dataset = torchtext.data.TabularDataset(\"/content/gdrive/My Drive/SMSSpamCollection\", # name of the file\n",
        "                                        \"tsv\",               # fields are separated by a tab\n",
        "                                        fields)\n",
        "# dataset[0].sms\n",
        "# dataset[0].label\n",
        "\n",
        "train, valid, test= dataset.split(split_ratio = [0.6,0.2,0.2],\n",
        "                                  stratified = True, strata_field = 'label')\n",
        "\n",
        "print(len(train))\n",
        "print(len(valid))\n",
        "len(test)"
      ],
      "execution_count": null,
      "outputs": [
        {
          "output_type": "stream",
          "text": [
            "3343\n",
            "1115\n"
          ],
          "name": "stdout"
        },
        {
          "output_type": "execute_result",
          "data": {
            "text/plain": [
              "1114"
            ]
          },
          "metadata": {
            "tags": []
          },
          "execution_count": 5
        }
      ]
    },
    {
      "cell_type": "markdown",
      "metadata": {
        "id": "ZMhB9uw7NtNz"
      },
      "source": [
        "Part 1E\n",
        "\n",
        "Having a balanced training set is helpful for training our neural network because it will prevent the model from overfitting to the training set. For now the dataset contains a large portion of the label \"ham\", if 9 out of 10 samples have the \"ham\" label, then the model will not be able to learn what really differs from \"spam\" and \"ham\". To think from a extreme perspective, if the entire dataset only has 'ham' label, the model would not be able to compute the loss after a few iterations because it overfits to the dataset. If an unseen spam message is fed into the model, it is highly likely that the model will still predict it as a normal message."
      ]
    },
    {
      "cell_type": "code",
      "metadata": {
        "id": "0ZDwdmp5Nuwo"
      },
      "source": [
        "# save the original training examples\n",
        "old_train_examples = train.examples\n",
        "# get all the spam messages in `train`\n",
        "train_spam = []\n",
        "for item in train.examples:\n",
        "    if item.label == 1:\n",
        "        train_spam.append(item)\n",
        "# duplicate each spam message 6 more times\n",
        "train.examples = old_train_examples + train_spam * 6"
      ],
      "execution_count": null,
      "outputs": []
    },
    {
      "cell_type": "markdown",
      "metadata": {
        "id": "y2d-rfN6QZXv"
      },
      "source": [
        "Part 1F"
      ]
    },
    {
      "cell_type": "code",
      "metadata": {
        "id": "tZYwlKNmQrXB"
      },
      "source": [
        "text_field.build_vocab(train)\n",
        "#text_field.vocab.stoi                     # a dictionary that displays the assigned integer from its string\n",
        "#text_field.vocab.itos                      # a dictionary that displays the string based on the integer index"
      ],
      "execution_count": null,
      "outputs": []
    },
    {
      "cell_type": "markdown",
      "metadata": {
        "id": "RpIE0krCTRM2"
      },
      "source": [
        "Part 1G\n",
        "\n",
        "UNK is used to replace the rare words that did not fit in your vocabulary. This will not be used in Character-level RNN\n",
        "\n",
        "\n",
        "PAD is used to pad the data so that each batch of sequence has the same length. "
      ]
    },
    {
      "cell_type": "code",
      "metadata": {
        "id": "3QbMI_2eaPPL",
        "outputId": "ed6709d4-47e8-4c41-c12d-10f9f269736f",
        "colab": {
          "base_uri": "https://localhost:8080/",
          "height": 1972
        }
      },
      "source": [
        "text_field.vocab.stoi  "
      ],
      "execution_count": null,
      "outputs": [
        {
          "output_type": "execute_result",
          "data": {
            "text/plain": [
              "defaultdict(<function torchtext.vocab._default_unk_index>,\n",
              "            {'\\t': 106,\n",
              "             '\\n': 107,\n",
              "             ' ': 2,\n",
              "             '!': 45,\n",
              "             '\"': 78,\n",
              "             '#': 80,\n",
              "             '$': 86,\n",
              "             '%': 91,\n",
              "             '&': 63,\n",
              "             \"'\": 59,\n",
              "             '(': 79,\n",
              "             ')': 73,\n",
              "             '*': 71,\n",
              "             '+': 75,\n",
              "             ',': 46,\n",
              "             '-': 64,\n",
              "             '.': 16,\n",
              "             '/': 60,\n",
              "             '0': 13,\n",
              "             '1': 23,\n",
              "             '2': 26,\n",
              "             '3': 42,\n",
              "             '4': 37,\n",
              "             '5': 32,\n",
              "             '6': 41,\n",
              "             '7': 40,\n",
              "             '8': 28,\n",
              "             '9': 47,\n",
              "             ':': 65,\n",
              "             ';': 74,\n",
              "             '<': 87,\n",
              "             '<pad>': 1,\n",
              "             '<unk>': 0,\n",
              "             '=': 84,\n",
              "             '>': 81,\n",
              "             '?': 61,\n",
              "             '@': 82,\n",
              "             'A': 39,\n",
              "             'B': 56,\n",
              "             'C': 34,\n",
              "             'D': 54,\n",
              "             'E': 30,\n",
              "             'F': 55,\n",
              "             'G': 58,\n",
              "             'H': 52,\n",
              "             'I': 36,\n",
              "             'J': 72,\n",
              "             'K': 69,\n",
              "             'L': 53,\n",
              "             'M': 49,\n",
              "             'N': 38,\n",
              "             'O': 35,\n",
              "             'P': 48,\n",
              "             'Q': 77,\n",
              "             'R': 44,\n",
              "             'S': 33,\n",
              "             'T': 27,\n",
              "             'U': 51,\n",
              "             'V': 68,\n",
              "             'W': 50,\n",
              "             'X': 66,\n",
              "             'Y': 57,\n",
              "             'Z': 83,\n",
              "             '[': 98,\n",
              "             '\\\\': 103,\n",
              "             ']': 99,\n",
              "             '^': 110,\n",
              "             '_': 92,\n",
              "             'a': 6,\n",
              "             'b': 25,\n",
              "             'c': 18,\n",
              "             'd': 15,\n",
              "             'e': 3,\n",
              "             'f': 24,\n",
              "             'g': 22,\n",
              "             'h': 14,\n",
              "             'i': 9,\n",
              "             'j': 70,\n",
              "             'k': 29,\n",
              "             'l': 11,\n",
              "             'm': 17,\n",
              "             'n': 7,\n",
              "             'o': 4,\n",
              "             'p': 21,\n",
              "             'q': 76,\n",
              "             'r': 8,\n",
              "             's': 10,\n",
              "             't': 5,\n",
              "             'u': 12,\n",
              "             'v': 31,\n",
              "             'w': 20,\n",
              "             'x': 43,\n",
              "             'y': 19,\n",
              "             'z': 67,\n",
              "             '|': 93,\n",
              "             '~': 108,\n",
              "             '\\x91': 109,\n",
              "             '\\x92': 88,\n",
              "             '\\x93': 94,\n",
              "             '\\x94': 102,\n",
              "             '\\x96': 104,\n",
              "             '¡': 95,\n",
              "             '£': 62,\n",
              "             'É': 111,\n",
              "             'Ü': 90,\n",
              "             'è': 112,\n",
              "             'é': 105,\n",
              "             'ü': 85,\n",
              "             '–': 101,\n",
              "             '—': 113,\n",
              "             '‘': 89,\n",
              "             '’': 100,\n",
              "             '“': 96,\n",
              "             '…': 97})"
            ]
          },
          "metadata": {
            "tags": []
          },
          "execution_count": 8
        }
      ]
    },
    {
      "cell_type": "markdown",
      "metadata": {
        "id": "33JSwwTkaQk5"
      },
      "source": [
        "Part 1H"
      ]
    },
    {
      "cell_type": "code",
      "metadata": {
        "id": "HcN3vYw6aT9A",
        "outputId": "07cc804c-25b9-4271-b234-794ebfffd603",
        "colab": {
          "base_uri": "https://localhost:8080/",
          "height": 357
        }
      },
      "source": [
        "train_iter = torchtext.data.BucketIterator(train,\n",
        "                                           batch_size=32,\n",
        "                                           sort_key=lambda x: len(x.sms), # to minimize padding\n",
        "                                           sort_within_batch=True,        # sort within each batch\n",
        "                                           repeat=False)                  # repeat the iterator for many epochs\n",
        "\n",
        "for i, batch in enumerate(train_iter):\n",
        "  if i >= 10:\n",
        "    break\n",
        "  print(\"Batch number {0} has {1} maximum input\".format(i+1,batch.sms[1][0].item()))\n",
        "  count = 0\n",
        "  for j in range(32):\n",
        "    if batch.label[j].item() == 1:\n",
        "      count += 1\n",
        "  print(\"Batch number {0} has {1} paddings\".format(i+1,count))\n"
      ],
      "execution_count": null,
      "outputs": [
        {
          "output_type": "stream",
          "text": [
            "Batch number 1 has 157 maximum input\n",
            "Batch number 1 has 29 paddings\n",
            "Batch number 2 has 137 maximum input\n",
            "Batch number 2 has 28 paddings\n",
            "Batch number 3 has 96 maximum input\n",
            "Batch number 3 has 15 paddings\n",
            "Batch number 4 has 120 maximum input\n",
            "Batch number 4 has 22 paddings\n",
            "Batch number 5 has 144 maximum input\n",
            "Batch number 5 has 30 paddings\n",
            "Batch number 6 has 77 maximum input\n",
            "Batch number 6 has 3 paddings\n",
            "Batch number 7 has 28 maximum input\n",
            "Batch number 7 has 0 paddings\n",
            "Batch number 8 has 169 maximum input\n",
            "Batch number 8 has 20 paddings\n",
            "Batch number 9 has 159 maximum input\n",
            "Batch number 9 has 30 paddings\n",
            "Batch number 10 has 83 maximum input\n",
            "Batch number 10 has 17 paddings\n"
          ],
          "name": "stdout"
        }
      ]
    },
    {
      "cell_type": "markdown",
      "metadata": {
        "id": "nEnB9v_JXLIK"
      },
      "source": [
        "Part 2"
      ]
    },
    {
      "cell_type": "code",
      "metadata": {
        "id": "mkWPl_RpXOE3",
        "outputId": "47861175-3d03-4a06-fa79-f2e5017240bf",
        "colab": {
          "base_uri": "https://localhost:8080/",
          "height": 136
        }
      },
      "source": [
        "\n",
        "import torch.nn as nn\n",
        "import torch\n",
        "import numpy\n",
        "# You mind find this code helpful for obtaining\n",
        "# pytorch one-hot vectors.\n",
        "\n",
        "ident = torch.eye(10, dtype = torch.float32)\n",
        "#ident = torch.eye(10)\n",
        "print(ident[0]) # one-hot vector\n",
        "print(ident[1]) # one-hot vector\n",
        "x = torch.tensor([[1, 2], [3, 4]])\n",
        "print(ident[x]) # one-hot vectors"
      ],
      "execution_count": null,
      "outputs": [
        {
          "output_type": "stream",
          "text": [
            "tensor([1., 0., 0., 0., 0., 0., 0., 0., 0., 0.])\n",
            "tensor([0., 1., 0., 0., 0., 0., 0., 0., 0., 0.])\n",
            "tensor([[[0., 1., 0., 0., 0., 0., 0., 0., 0., 0.],\n",
            "         [0., 0., 1., 0., 0., 0., 0., 0., 0., 0.]],\n",
            "\n",
            "        [[0., 0., 0., 1., 0., 0., 0., 0., 0., 0.],\n",
            "         [0., 0., 0., 0., 1., 0., 0., 0., 0., 0.]]])\n"
          ],
          "name": "stdout"
        }
      ]
    },
    {
      "cell_type": "code",
      "metadata": {
        "id": "Qv9BQrBrb0ik",
        "outputId": "e3c14b29-9b2b-417f-fe29-c782fbf12392",
        "colab": {
          "base_uri": "https://localhost:8080/",
          "height": 34
        }
      },
      "source": [
        "len(text_field.vocab.stoi)"
      ],
      "execution_count": null,
      "outputs": [
        {
          "output_type": "execute_result",
          "data": {
            "text/plain": [
              "120"
            ]
          },
          "metadata": {
            "tags": []
          },
          "execution_count": 79
        }
      ]
    },
    {
      "cell_type": "code",
      "metadata": {
        "id": "4enrBZsnYlpk"
      },
      "source": [
        "class RNN(nn.Module):\n",
        "    def __init__(self, input_size, hidden_size, num_classes):\n",
        "        super(RNN, self).__init__()\n",
        "        self.ident = torch.eye(128, dtype = torch.float32)\n",
        "        #self.emb = nn.Embedding(len(text_field.vocab.stoi), hidden_size)\n",
        "        self.hidden_size = hidden_size\n",
        "        self.rnn = nn.RNN(input_size, hidden_size, batch_first=True)\n",
        "        self.fc = nn.Linear(128, num_classes)\n",
        "    \n",
        "    def forward(self, x):\n",
        "        # Look up the embedding\n",
        "        x = self.ident[x]\n",
        "        # Set an initial hidden state\n",
        "        h0 = torch.zeros(1, x.size(0), self.hidden_size)\n",
        "        # Forward propagate the RNN\n",
        "        out, _ = self.rnn(x)\n",
        "        # Pass the output of the last time step to the classifier\n",
        "        out = torch.cat([torch.max(out, dim=1)[0], \n",
        "                 torch.mean(out, dim=1)], dim=1)\n",
        "        out = self.fc(out)\n",
        "        return out\n",
        "\n",
        "\n"
      ],
      "execution_count": null,
      "outputs": []
    },
    {
      "cell_type": "markdown",
      "metadata": {
        "id": "ZVEGC70daqUH"
      },
      "source": [
        "Part 3A"
      ]
    },
    {
      "cell_type": "code",
      "metadata": {
        "id": "-r2h8LGydDTD"
      },
      "source": [
        ""
      ],
      "execution_count": null,
      "outputs": []
    },
    {
      "cell_type": "code",
      "metadata": {
        "id": "AMPUnfzparMs"
      },
      "source": [
        "def get_accuracy(model, data):\n",
        "    \"\"\" \n",
        "    Compute the accuracy of the `model` across a dataset `data`\n",
        "    \n",
        "    Example usage:\n",
        "    \n",
        "    >>> model = MyRNN() # to be defined\n",
        "    >>> get_accuracy(model, valid) # the variable `valid` is from above\n",
        "    \"\"\"\n",
        "    iterate = torchtext.data.BucketIterator(data,batch_size=32,sort_key=lambda x:len(x.sms),repeat=False)\n",
        "    correct, total = 0, 0\n",
        "    for i, batch in enumerate(iterate):\n",
        "        output = model(batch.sms[0])\n",
        "        pred = output.max(1, keepdim=True)[1]\n",
        "        correct += pred.eq(batch.label.view_as(pred)).sum().item()\n",
        "        total += batch.sms[1].shape[0]\n",
        "    return correct / total"
      ],
      "execution_count": null,
      "outputs": []
    },
    {
      "cell_type": "markdown",
      "metadata": {
        "id": "pVYFMxbpdSnQ"
      },
      "source": [
        "Part 3B"
      ]
    },
    {
      "cell_type": "code",
      "metadata": {
        "id": "UdlePeEMdUYz"
      },
      "source": [
        "import matplotlib.pyplot as plt\n",
        "def train_rnn_network(model, train, valid, num_epochs=30, learning_rate=1e-5, batch_size=32):\n",
        "    iterate = torchtext.data.BucketIterator(train,batch_size=batch_size,sort_key=lambda x: len(x.sms),sort_within_batch=True,repeat=False)              \n",
        "    criterion = nn.CrossEntropyLoss()\n",
        "    optimizer = torch.optim.Adam(model.parameters(), lr=learning_rate)\n",
        "    losses, train_acc, valid_acc = [], [], []\n",
        "    loss = 0\n",
        "    epochs = []\n",
        "    for epoch in range(num_epochs):\n",
        "      for b in iterate:\n",
        "          label = b.label\n",
        "          sms = b.sms\n",
        "          optimizer.zero_grad()\n",
        "          pred = model(sms[0])\n",
        "          loss = criterion(pred, label)\n",
        "          loss.backward()\n",
        "          optimizer.step()\n",
        "      losses.append(float(loss))\n",
        "\n",
        "      epochs.append(epoch)\n",
        "      train_acc.append(get_accuracy(model, train))\n",
        "      valid_acc.append(get_accuracy(model, valid))\n",
        "      print(\"Epoch %d; Loss %f; Train Acc %f; Val Acc %f\" % (epoch+1, loss, train_acc[-1], valid_acc[-1]))\n",
        "    # plotting\n",
        "    plt.title(\"Training Curve\")\n",
        "    plt.plot(losses, label=\"Train\")\n",
        "    plt.xlabel(\"Epoch\")\n",
        "    plt.ylabel(\"Loss\")\n",
        "    plt.show()\n",
        "\n",
        "    plt.title(\"Training Curve\")\n",
        "    plt.plot(epochs, train_acc, label=\"Train\")\n",
        "    plt.plot(epochs, valid_acc, label=\"Validation\")\n",
        "    plt.xlabel(\"Epoch\")\n",
        "    plt.ylabel(\"Accuracy\")\n",
        "    plt.legend(loc='best')\n",
        "    plt.show()\n"
      ],
      "execution_count": null,
      "outputs": []
    },
    {
      "cell_type": "code",
      "metadata": {
        "id": "ijsgRkR1zCAl",
        "outputId": "7b62aca3-9c2c-4760-bfd3-d0d29a8c62f9",
        "colab": {
          "base_uri": "https://localhost:8080/",
          "height": 1423
        }
      },
      "source": [
        "the_model = RNN(128,64,2)\n",
        "train_rnn_network(the_model, train, valid, num_epochs=50,\n",
        "                  learning_rate=1e-5)"
      ],
      "execution_count": null,
      "outputs": [
        {
          "output_type": "stream",
          "text": [
            "Epoch 1; Loss 0.671835; Train Acc 0.519980; Val Acc 0.134529\n",
            "Epoch 2; Loss 0.726535; Train Acc 0.519980; Val Acc 0.134529\n",
            "Epoch 3; Loss 0.672060; Train Acc 0.519980; Val Acc 0.134529\n",
            "Epoch 4; Loss 0.666719; Train Acc 0.519980; Val Acc 0.134529\n",
            "Epoch 5; Loss 0.703987; Train Acc 0.519980; Val Acc 0.134529\n",
            "Epoch 6; Loss 0.668261; Train Acc 0.519980; Val Acc 0.134529\n",
            "Epoch 7; Loss 0.659904; Train Acc 0.519980; Val Acc 0.134529\n",
            "Epoch 8; Loss 0.650932; Train Acc 0.519980; Val Acc 0.134529\n",
            "Epoch 9; Loss 0.731287; Train Acc 0.519980; Val Acc 0.134529\n",
            "Epoch 10; Loss 0.731209; Train Acc 0.519980; Val Acc 0.134529\n",
            "Epoch 11; Loss 0.729569; Train Acc 0.519980; Val Acc 0.134529\n",
            "Epoch 12; Loss 0.727047; Train Acc 0.519980; Val Acc 0.134529\n",
            "Epoch 13; Loss 0.688497; Train Acc 0.519980; Val Acc 0.134529\n",
            "Epoch 14; Loss 0.648580; Train Acc 0.519980; Val Acc 0.134529\n",
            "Epoch 15; Loss 0.643007; Train Acc 0.521307; Val Acc 0.138117\n",
            "Epoch 16; Loss 0.674247; Train Acc 0.533908; Val Acc 0.156951\n",
            "Epoch 17; Loss 0.649502; Train Acc 0.542696; Val Acc 0.178475\n",
            "Epoch 18; Loss 0.555939; Train Acc 0.541204; Val Acc 0.175785\n",
            "Epoch 19; Loss 0.447293; Train Acc 0.547173; Val Acc 0.182063\n",
            "Epoch 20; Loss 0.457133; Train Acc 0.547007; Val Acc 0.190135\n",
            "Epoch 21; Loss 0.552011; Train Acc 0.552645; Val Acc 0.199103\n",
            "Epoch 22; Loss 0.556976; Train Acc 0.555298; Val Acc 0.200000\n",
            "Epoch 23; Loss 0.357213; Train Acc 0.557453; Val Acc 0.200897\n",
            "Epoch 24; Loss 0.541002; Train Acc 0.561433; Val Acc 0.206278\n",
            "Epoch 25; Loss 0.424705; Train Acc 0.562925; Val Acc 0.197309\n",
            "Epoch 26; Loss 0.394761; Train Acc 0.566739; Val Acc 0.203587\n",
            "Epoch 27; Loss 0.552335; Train Acc 0.570718; Val Acc 0.201794\n",
            "Epoch 28; Loss 0.533647; Train Acc 0.571381; Val Acc 0.202691\n",
            "Epoch 29; Loss 0.368906; Train Acc 0.575361; Val Acc 0.204484\n",
            "Epoch 30; Loss 0.242446; Train Acc 0.578677; Val Acc 0.207175\n",
            "Epoch 31; Loss 0.447318; Train Acc 0.581827; Val Acc 0.217040\n",
            "Epoch 32; Loss 0.212092; Train Acc 0.586138; Val Acc 0.210762\n",
            "Epoch 33; Loss 0.230012; Train Acc 0.622451; Val Acc 0.330942\n",
            "Epoch 34; Loss 0.450151; Train Acc 0.605372; Val Acc 0.268161\n",
            "Epoch 35; Loss 0.434780; Train Acc 0.600564; Val Acc 0.233184\n",
            "Epoch 36; Loss 0.507092; Train Acc 0.605870; Val Acc 0.241256\n",
            "Epoch 37; Loss 0.289628; Train Acc 0.610844; Val Acc 0.252915\n",
            "Epoch 38; Loss 0.408857; Train Acc 0.620295; Val Acc 0.263677\n",
            "Epoch 39; Loss 0.564169; Train Acc 0.625601; Val Acc 0.271749\n",
            "Epoch 40; Loss 0.183319; Train Acc 0.670536; Val Acc 0.370404\n",
            "Epoch 41; Loss 0.315408; Train Acc 0.652131; Val Acc 0.309417\n",
            "Epoch 42; Loss 0.321804; Train Acc 0.699552; Val Acc 0.395516\n",
            "Epoch 43; Loss 0.423158; Train Acc 0.757254; Val Acc 0.476233\n",
            "Epoch 44; Loss 0.307286; Train Acc 0.843310; Val Acc 0.626906\n",
            "Epoch 45; Loss 0.449312; Train Acc 0.873984; Val Acc 0.732735\n",
            "Epoch 46; Loss 0.237033; Train Acc 0.932018; Val Acc 0.903139\n",
            "Epoch 47; Loss 0.276772; Train Acc 0.930360; Val Acc 0.897758\n",
            "Epoch 48; Loss 0.187302; Train Acc 0.911789; Val Acc 0.950673\n",
            "Epoch 49; Loss 0.490865; Train Acc 0.919416; Val Acc 0.953363\n",
            "Epoch 50; Loss 0.295507; Train Acc 0.924888; Val Acc 0.954260\n"
          ],
          "name": "stdout"
        },
        {
          "output_type": "display_data",
          "data": {
            "image/png": "[encoded data removed]",
            "text/plain": [
              "<Figure size 432x288 with 1 Axes>"
            ]
          },
          "metadata": {
            "tags": []
          }
        },
        {
          "output_type": "display_data",
          "data": {
            "image/png": "[encoded data removed]",
            "text/plain": [
              "<Figure size 432x288 with 1 Axes>"
            ]
          },
          "metadata": {
            "tags": []
          }
        }
      ]
    },
    {
      "cell_type": "markdown",
      "metadata": {
        "id": "babfPytHpyEX"
      },
      "source": [
        "Part 3C\n",
        "\n",
        "4 hyper parameters I chose to tune:\n",
        "\n",
        "1. Learning rate: Initially used 1e-5. The result looked good with high training and validation accuracy. I decided to increase and decrease the learning rate to see if it helps improving the results. Increasing the learning rate did not increase the final accuracy (tried 5e-5 and 1e-4. 1e-4 resulted a little bit more noisy training curve.) Decreasing the learning rate the 1e-6. The training accuracy increased very slowly per epoch, so I decided to use 1e-5.\n",
        "\n",
        "2. Batch size: tried 32,64,128,256. Wanted to see if increasing the batch size would improve the results while saving computational time. Turned out that 64 did not cause the model to improve accuracy, and 128 and 256 caused the model to have lower peak accuracy.\n",
        "\n",
        "3. Epoch. Tried 5,30, 50, 70.  Tried 5 just to make sure the model is working. Increased to 30 but the accuracy seemed to still have room to increase. Increased to 50 and training accuracy appeared to stop increasing at epoch 44. Increased to 70 to see if the accuracy would change or increase, but it did not. \n",
        "\n",
        "4. input_size and output_size of the model. Tried 128, 256. 128 have almost the same training/validation accuracy. 256 had no improvements.\n",
        "\n",
        "Overall, my best model is trained based on the following hyperparameters:\n",
        "\n",
        "Lr = 1e-5, Batch size = 32, epoch = 50, input size and output size = 128"
      ]
    },
    {
      "cell_type": "markdown",
      "metadata": {
        "id": "hWjkmYQFvRY1"
      },
      "source": [
        "Part 3D"
      ]
    },
    {
      "cell_type": "code",
      "metadata": {
        "id": "APM-Tvx42cm4",
        "outputId": "c60ba77f-e0ef-4479-d66e-2f67ba1bf14c",
        "colab": {
          "base_uri": "https://localhost:8080/",
          "height": 51
        }
      },
      "source": [
        "# Create a Dataset of only spam validation examples\n",
        "valid_spam = torchtext.data.Dataset(\n",
        "    [e for e in valid.examples if e.label == 1],\n",
        "    valid.fields)\n",
        "# Create a Dataset of only non-spam validation examples\n",
        "valid_nospam = torchtext.data.Dataset(\n",
        "    [e for e in valid.examples if e.label == 0],\n",
        "    valid.fields)\n",
        "\n",
        "print(1-get_accuracy(the_model,valid_spam))  #error rate on predicting based on dataset consists of only spam messages\n",
        "print(1-get_accuracy(the_model,valid_nospam))  #error rate on predicting based on dataset consists of only non-spam messages"
      ],
      "execution_count": null,
      "outputs": [
        {
          "output_type": "stream",
          "text": [
            "0.17333333333333334\n",
            "0.02694300518134718\n"
          ],
          "name": "stdout"
        }
      ]
    },
    {
      "cell_type": "markdown",
      "metadata": {
        "id": "iaZcvv0ExWOX"
      },
      "source": [
        "Part 3E:\n",
        "\n",
        "If the user gets a spam email, the algorithm would most likely flag it (~80% accuracy) as spam message, which is good. Even if it got it wrong, the user can judge the email by himself and delete the email.\n",
        "\n",
        "If the user gets a real email, the algorithm would likely to leave it in the inbox (~97% accuracy) as a normal message, which is good. If it flagged it wrong(6.21%), the user would be impacted because it is then moved to junk emails and would not be seen by the user.\n",
        "\n",
        "Therefore, It is important that the algorithm has a very low false positive rate."
      ]
    },
    {
      "cell_type": "markdown",
      "metadata": {
        "id": "G0Ha9cH1zbFy"
      },
      "source": [
        "Part 4A"
      ]
    },
    {
      "cell_type": "code",
      "metadata": {
        "id": "FTpq1krg2jFx",
        "outputId": "e53bea27-3f01-44ce-dd86-58544102cf60",
        "colab": {
          "base_uri": "https://localhost:8080/",
          "height": 34
        }
      },
      "source": [
        "print(get_accuracy(the_model,test)) #94.7%"
      ],
      "execution_count": null,
      "outputs": [
        {
          "output_type": "stream",
          "text": [
            "0.9470377019748654\n"
          ],
          "name": "stdout"
        }
      ]
    },
    {
      "cell_type": "markdown",
      "metadata": {
        "id": "nZC2Ubw_zn-1"
      },
      "source": [
        "Part 4B"
      ]
    },
    {
      "cell_type": "code",
      "metadata": {
        "id": "-qQ_gZayzpJB",
        "outputId": "dc69612f-7876-480a-9546-175cbdb23baa",
        "colab": {
          "base_uri": "https://localhost:8080/",
          "height": 51
        }
      },
      "source": [
        "# Create a Dataset of only spam test examples\n",
        "test_spam = torchtext.data.Dataset(\n",
        "    [e for e in test.examples if e.label == 1],\n",
        "    test.fields)\n",
        "# Create a Dataset of only non-spam test examples\n",
        "test_nospam = torchtext.data.Dataset(\n",
        "    [e for e in test.examples if e.label == 0],\n",
        "    test.fields)\n",
        "\n",
        "print(1-get_accuracy(the_model,test_spam))  #error rate on predicting based on dataset consists of only spam messages\n",
        "print(1-get_accuracy(the_model,test_nospam))  #error rate on predicting based on dataset consists of only non-spam messages"
      ],
      "execution_count": null,
      "outputs": [
        {
          "output_type": "stream",
          "text": [
            "0.17449664429530198\n",
            "0.033160621761658016\n"
          ],
          "name": "stdout"
        }
      ]
    },
    {
      "cell_type": "markdown",
      "metadata": {
        "id": "U1YS3uC60JdX"
      },
      "source": [
        "Part 4C"
      ]
    },
    {
      "cell_type": "code",
      "metadata": {
        "id": "YpH91y1z0Kv5",
        "outputId": "2a8d4970-295c-4e24-c7b7-363d945cf314",
        "colab": {
          "base_uri": "https://localhost:8080/",
          "height": 68
        }
      },
      "source": [
        "import torch.nn.functional as F\n",
        "msg = \"machine learning is sooo cool!\"               \n",
        "x = []\n",
        "for i in msg:\n",
        "  a = text_field.vocab.stoi[i]\n",
        "  x.append(a)\n",
        "x = torch.tensor(x)\n",
        "x = x.resize(1,30)\n",
        "output = the_model(x)\n",
        "prob = F.softmax(output, dim=1)\n",
        "print(prob)         #19.04% "
      ],
      "execution_count": null,
      "outputs": [
        {
          "output_type": "stream",
          "text": [
            "tensor([[0.8096, 0.1904]], grad_fn=<SoftmaxBackward>)\n"
          ],
          "name": "stdout"
        },
        {
          "output_type": "stream",
          "text": [
            "/usr/local/lib/python3.6/dist-packages/torch/tensor.py:339: UserWarning: non-inplace resize is deprecated\n",
            "  warnings.warn(\"non-inplace resize is deprecated\")\n"
          ],
          "name": "stderr"
        }
      ]
    },
    {
      "cell_type": "markdown",
      "metadata": {
        "id": "x3bH1DdcW3v8"
      },
      "source": [
        "Part 4D\n",
        "\n",
        "\n",
        "I think that it is not hard to detect if a message is a spam or not, if we use word-level based RNN model, because most spam messages contains the same group of words such as \"free\", \"prize\", \"won\",etc...\n",
        "\n",
        "To build a baseline model, what can be done is to simply build an algorithm that flags messages that contains common words ( examples above) in a typical spam message as spam, and compute accuracy using the test dataset. There is a good chance the message is indeed spam message. If the network accuracy is lower than this, than it means there is a problem. Because the model is expected to learn these common words during training."
      ]
    },
    {
      "cell_type": "code",
      "metadata": {
        "id": "A12veoXV5l_c"
      },
      "source": [
        ""
      ],
      "execution_count": null,
      "outputs": []
    }
  ]
}